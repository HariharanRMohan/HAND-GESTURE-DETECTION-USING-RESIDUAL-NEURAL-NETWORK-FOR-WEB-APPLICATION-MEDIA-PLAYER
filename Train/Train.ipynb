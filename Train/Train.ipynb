{
 "cells": [
  {
   "cell_type": "code",
   "execution_count": null,
   "id": "88050437",
   "metadata": {},
   "outputs": [],
   "source": [
    "from Lib.data_loader import DataLoader\n",
    "from Lib.resnet_model import Resnet3DBuilder\n",
    "from Lib.HistoryGraph import HistoryGraph\n",
    "import Lib.image as img\n",
    "from Lib.utils import mkdirs\n",
    "import os"
   ]
  },
  {
   "cell_type": "code",
   "execution_count": null,
   "id": "b4520772",
   "metadata": {},
   "outputs": [],
   "source": [
    "from math import ceil"
   ]
  },
  {
   "cell_type": "code",
   "execution_count": null,
   "id": "4a4702e2",
   "metadata": {},
   "outputs": [],
   "source": [
    "from keras.optimizers import SGD"
   ]
  },
  {
   "cell_type": "code",
   "execution_count": null,
   "id": "39701181",
   "metadata": {},
   "outputs": [],
   "source": [
    "from keras.callbacks import ModelCheckpoint"
   ]
  },
  {
   "cell_type": "code",
   "execution_count": null,
   "id": "598560c4",
   "metadata": {},
   "outputs": [],
   "source": [
    "#the width and height is 64 and 96\n",
    "target_size = (64,96)\n",
    "nb_frames = 16\n",
    "skip = 1\n",
    "nb_classes = 27\n",
    "batch_size = 64\n",
    "input_shape = (nb_frames,) + target_size + (3,)"
   ]
  },
  {
   "cell_type": "code",
   "execution_count": null,
   "id": "5f3bdda9",
   "metadata": {},
   "outputs": [],
   "source": [
    "workers = 8\n",
    "use_multiprocessing = False\n",
    "max_queue_size = 20"
   ]
  },
  {
   "cell_type": "code",
   "execution_count": null,
   "id": "bd968fe7",
   "metadata": {},
   "outputs": [],
   "source": [
    "data_root = r\"D:\\fyp datasets\\2OBN JESTER\"\n",
    "csv_labels = r\"D:\\fyp datasets\\2OBN JESTER\\jester-v1-labels.csv\"\n",
    "csv_train = r\"D:\\fyp datasets\\2OBN JESTER\\jester-v1-train.csv\"\n",
    "csv_val = r\"D:\\fyp datasets\\2OBN JESTER\\jester-v1-validation.csv\"\n",
    "csv_test = r\"D:\\fyp datasets\\2OBN JESTER\\jester-v1-test.csv\"\n",
    "data_vid = r\"D:\\fyp datasets\\2OBN JESTER\\videos\"\n",
    "model_name = 'resnet_3d_model'\n",
    "data_model = r\"D:\\fyp datasets\\2OBN JESTER\\model\""
   ]
  },
  {
   "cell_type": "code",
   "execution_count": null,
   "id": "67242d54",
   "metadata": {},
   "outputs": [],
   "source": [
    "path_model = os.path.join(data_root, data_model, model_name)\n",
    "path_vid = os.path.join(data_root, data_vid)\n",
    "path_labels = os.path.join(data_root, csv_labels)\n",
    "path_train = os.path.join(data_root, csv_train)\n",
    "path_val = os.path.join(data_root, csv_val)\n",
    "path_test = os.path.join(data_root, csv_test)"
   ]
  },
  {
   "cell_type": "code",
   "execution_count": null,
   "id": "c2fc5df3",
   "metadata": {},
   "outputs": [],
   "source": [
    "data = DataLoader(path_vid, path_labels, path_train, path_val)\n",
    "mkdirs(path_model, 0o755)\n",
    "mkdirs(os.path.join(path_model, \"graphs\"), 0o755)"
   ]
  },
  {
   "cell_type": "code",
   "execution_count": null,
   "id": "9d5f70be",
   "metadata": {},
   "outputs": [],
   "source": [
    "#at class ImageDataGenerator 530\n",
    "#during training, it collects batches of data means take files from file and \n",
    "#send images for argumentation\n",
    "#I'm using realtimedataargumentation which are online\n",
    "gen = img.ImageDataGenerator()\n",
    "#xcolumn is independent and ycolumn is dependent\n",
    "gen_train = gen.flow_video_from_dataframe(data.train_df, path_vid, path_classes=path_labels, x_col= 'video_id', y_col=\"label\", target_size=target_size, batch_size=batch_size, nb_frames=nb_frames, skip=skip, has_ext=True)\n",
    "gen_val = gen.flow_video_from_dataframe(data.val_df, path_vid, path_classes=path_labels, x_col= 'video_id', y_col=\"label\", target_size=target_size, batch_size=batch_size, nb_frames=nb_frames, skip=skip, has_ext=True)                                   "
   ]
  },
  {
   "cell_type": "code",
   "execution_count": null,
   "id": "aa6d6499",
   "metadata": {},
   "outputs": [],
   "source": [
    "resnet_model = Resnet3DBuilder.build_resnet_101(input_shape, nb_classes, drop_rate = 0.5)\n",
    "optimizer = SGD(lr = 0.01, momentum = 0.9, decay = 0.0001, nesterov = False)\n",
    "resnet_model.compile(optimizer = optimizer, loss = \"categorical_crossentropy\" , metrics = [\"accuracy\"])\n",
    "model_file = os.path.join(path_model, 'resnetmodel.hdf5')"
   ]
  },
  {
   "cell_type": "code",
   "execution_count": null,
   "id": "c2ab987b",
   "metadata": {},
   "outputs": [],
   "source": [
    "model_checkpointer = ModelCheckpoint(model_file, monitor='val_acc', verbose=1, save_best_only=True, mode='max')"
   ]
  },
  {
   "cell_type": "code",
   "execution_count": null,
   "id": "38143120",
   "metadata": {},
   "outputs": [],
   "source": [
    "history_graph = HistoryGraph(model_path_name = os.path.join(path_model, \"graphs\"))"
   ]
  },
  {
   "cell_type": "code",
   "execution_count": null,
   "id": "50304a58",
   "metadata": {},
   "outputs": [],
   "source": [
    "nb_sample_train = data.train_df[\"video_id\"].size\n",
    "nb_sample_val = data.val_df[\"video_id\"].size"
   ]
  },
  {
   "cell_type": "code",
   "execution_count": null,
   "id": "220841bf",
   "metadata": {
    "scrolled": true
   },
   "outputs": [],
   "source": [
    "resnet_model.fit_generator(\n",
    "                        generator = gen_train,\n",
    "                        steps_per_epoch=ceil(nb_sample_train/batch_size),\n",
    "                        epochs=50,\n",
    "                        validation_data = gen_val,\n",
    "                        validation_steps=30,\n",
    "                        shuffle=True,\n",
    "                        verbose=1,\n",
    "                        workers=workers,\n",
    "                        max_queue_size = max_queue_size,\n",
    "                        use_multiprocessing = use_multiprocessing,\n",
    "                        callbacks = [model_checkpointer, history_graph])"
   ]
  }
 ],
 "metadata": {
  "kernelspec": {
   "display_name": "handgesturepsm1",
   "language": "python",
   "name": "handgesturepsm1"
  },
  "language_info": {
   "codemirror_mode": {
    "name": "ipython",
    "version": 3
   },
   "file_extension": ".py",
   "mimetype": "text/x-python",
   "name": "python",
   "nbconvert_exporter": "python",
   "pygments_lexer": "ipython3",
   "version": "3.8.5"
  }
 },
 "nbformat": 4,
 "nbformat_minor": 5
}
